{
 "cells": [
  {
   "cell_type": "code",
   "execution_count": null,
   "id": "49bca47f",
   "metadata": {},
   "outputs": [],
   "source": []
  },
  {
   "cell_type": "code",
   "execution_count": 2,
   "id": "b00392af",
   "metadata": {},
   "outputs": [],
   "source": [
    ":dep plotly = {version = \"0.13\"}\n",
    "\n",
    "extern crate plotly;\n",
    "use plotly::{Plot, Scatter};\n",
    "use plotly::common::Mode;\n",
    "use std::fs;"
   ]
  },
  {
   "cell_type": "code",
   "execution_count": 3,
   "id": "e37b494a",
   "metadata": {},
   "outputs": [],
   "source": [
    "// !cargo build"
   ]
  },
  {
   "cell_type": "code",
   "execution_count": 4,
   "id": "ebf3cd15",
   "metadata": {},
   "outputs": [],
   "source": [
    "// !cargo add plotly"
   ]
  },
  {
   "cell_type": "code",
   "execution_count": 5,
   "id": "9a619c20",
   "metadata": {},
   "outputs": [],
   "source": [
    "let v_data: Vec<f64> = vec![0.1, 0.2, 0.3, 0.2, 0.3, 0.4, 0.5, 0.3];\n",
    "println!(\"v_data {:?}\", v_data);"
   ]
  },
  {
   "cell_type": "code",
   "execution_count": 10,
   "id": "b56da8cf",
   "metadata": {},
   "outputs": [],
   "source": [
    "use plotly::{Plot, Scatter};\n",
    "\n",
    "let mut plot = Plot::new();\n",
    "let trace = Scatter::new(vec![0, 1, 2], vec![2, 1, 0]);\n",
    "plot.add_trace(trace);"
   ]
  },
  {
   "cell_type": "code",
   "execution_count": 11,
   "id": "48664d28",
   "metadata": {},
   "outputs": [],
   "source": [
    "let plotly_file = \"rust_plot_2.html\";\n",
    "plot.write_html(plotly_file);\n",
    "plot.to_html(plotly_file);\n",
    "let plotly_contents = fs::read_to_string(plotly_file).unwrap();\n",
    "\n",
    "// Display inline using evcxr_display\n",
    "evcxr_display(&plotly_contents);"
   ]
  },
  {
   "cell_type": "code",
   "execution_count": 12,
   "id": "63e805d0",
   "metadata": {},
   "outputs": [],
   "source": [
    "println!(plotly_contents);"
   ]
  },
  {
   "cell_type": "code",
   "execution_count": 9,
   "id": "037b28fb",
   "metadata": {},
   "outputs": [],
   "source": []
  },
  {
   "cell_type": "code",
   "execution_count": null,
   "id": "39314acc",
   "metadata": {},
   "outputs": [],
   "source": []
  },
  {
   "cell_type": "code",
   "execution_count": null,
   "id": "7f5009cf",
   "metadata": {},
   "outputs": [],
   "source": []
  }
 ],
 "metadata": {
  "kernelspec": {
   "display_name": "Rust",
   "language": "rust",
   "name": "rust"
  },
  "language_info": {
   "codemirror_mode": "rust",
   "file_extension": ".rs",
   "mimetype": "text/rust",
   "name": "Rust",
   "pygment_lexer": "rust",
   "version": ""
  }
 },
 "nbformat": 4,
 "nbformat_minor": 5
}
